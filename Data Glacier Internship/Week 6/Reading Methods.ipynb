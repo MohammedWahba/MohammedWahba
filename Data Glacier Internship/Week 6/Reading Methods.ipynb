{
  "nbformat": 4,
  "nbformat_minor": 0,
  "metadata": {
    "colab": {
      "name": "Untitled0.ipynb",
      "provenance": [],
      "collapsed_sections": []
    },
    "kernelspec": {
      "name": "python3",
      "display_name": "Python 3"
    },
    "language_info": {
      "name": "python"
    }
  },
  "cells": [
    {
      "cell_type": "code",
      "metadata": {
        "colab": {
          "base_uri": "https://localhost:8080/"
        },
        "id": "03fBtlPsujuy",
        "outputId": "df59d03e-ad1b-4303-e160-7ac1d521a68b"
      },
      "source": [
        "%%time\n",
        "import pandas as pd\n",
        "df1= pd.read_csv(\"artists_large.csv\")"
      ],
      "execution_count": 11,
      "outputs": [
        {
          "output_type": "stream",
          "name": "stdout",
          "text": [
            "CPU times: user 35.3 s, sys: 2.49 s, total: 37.8 s\n",
            "Wall time: 37.8 s\n"
          ]
        }
      ]
    },
    {
      "cell_type": "code",
      "metadata": {
        "colab": {
          "base_uri": "https://localhost:8080/"
        },
        "id": "DBLAmy-NwbxD",
        "outputId": "c02b36e3-0150-4b5b-8d8f-0d62b6f24198"
      },
      "source": [
        "%%time\n",
        "import dask.dataframe as dd\n",
        "df2 = dd.read_csv(\"artists_large.csv\")"
      ],
      "execution_count": 14,
      "outputs": [
        {
          "output_type": "stream",
          "name": "stdout",
          "text": [
            "CPU times: user 323 ms, sys: 37.7 ms, total: 361 ms\n",
            "Wall time: 475 ms\n"
          ]
        }
      ]
    },
    {
      "cell_type": "code",
      "metadata": {
        "colab": {
          "base_uri": "https://localhost:8080/"
        },
        "id": "AQrI5RsQut4r",
        "outputId": "a6d46097-365c-4e50-f3dc-619710c7e3f9"
      },
      "source": [
        "%%time\n",
        "import ray\n",
        "df3= ray.data.read_csv(\"artists_large.csv\")"
      ],
      "execution_count": 15,
      "outputs": [
        {
          "output_type": "stream",
          "name": "stdout",
          "text": [
            "CPU times: user 4.75 s, sys: 991 ms, total: 5.74 s\n",
            "Wall time: 2min 51s\n"
          ]
        }
      ]
    },
    {
      "cell_type": "code",
      "metadata": {
        "colab": {
          "base_uri": "https://localhost:8080/"
        },
        "id": "oYlY1CgOwyI6",
        "outputId": "adf943ef-d1b7-4cae-9f74-8e1a44ba0c49"
      },
      "source": [
        "%%time\n",
        "import modin.pandas as pd\n",
        "df = pd.read_csv(\"artists_large.csv\")"
      ],
      "execution_count": 16,
      "outputs": [
        {
          "output_type": "stream",
          "name": "stderr",
          "text": [
            "\u001b[2m\u001b[36m(pid=696)\u001b[0m tcmalloc: large alloc 2031902720 bytes == 0x55a6e9d6a000 @  0x7f1af82ab1e7 0x55a6e2e1ff98 0x55a6e2deae27 0x55a6e2ecc9be 0x55a6e2dee349 0x55a6e2edfe1d 0x55a6e2e61e99 0x55a6e2e5c9ee 0x55a6e2d2ee2b 0x55a6e2e5efe4 0x55a6e2d2ed14 0x7f1af50523e2 0x7f1af5100a68 0x7f1af50586d2 0x7f1af51e6754 0x7f1af514561f 0x7f1af5207a13 0x7f1af52083da 0x7f1af516c635 0x7f1af53e0a86 0x7f1af57ea2c8 0x7f1af57eb071 0x7f1af57ec870 0x7f1af51f1995 0x7f1af5054687 0x55a6e2dee3a1 0x55a6e2edfe1d 0x55a6e2e61e99 0x55a6e2defafa 0x55a6e2e5dc0d 0x55a6e2e5c9ee\n",
            "\u001b[2m\u001b[36m(pid=696)\u001b[0m tcmalloc: large alloc 2031902720 bytes == 0x55a762f30000 @  0x7f1af82ab1e7 0x55a6e2e1ff98 0x55a6e2deb05c 0x55a6e2e5e320 0x55a6e2e5c9ee 0x55a6e2d2ee2b 0x55a6e2e5efe4 0x55a6e2d2ed14 0x7f1af50523e2 0x7f1af5100a68 0x7f1af50586d2 0x7f1af51e6754 0x7f1af514561f 0x7f1af5207a13 0x7f1af52083da 0x7f1af516c635 0x7f1af53e0a86 0x7f1af57ea2c8 0x7f1af57eb071 0x7f1af57ec870 0x7f1af51f1995 0x7f1af5054687 0x55a6e2dee3a1 0x55a6e2edfe1d 0x55a6e2e61e99 0x55a6e2defafa 0x55a6e2e5dc0d 0x55a6e2e5c9ee 0x55a6e2e5c6f3 0x55a6e2f264c2 0x55a6e2f2683d\n",
            "\u001b[2m\u001b[36m(pid=846)\u001b[0m tcmalloc: large alloc 2031894528 bytes == 0x5632be8fa000 @  0x7f32cf0961e7 0x5632bbfedf98 0x5632bbfb8e27 0x5632bc09a9be 0x5632bbfbc349 0x5632bc0ade1d 0x5632bc02fe99 0x5632bc02a9ee 0x5632bbefce2b 0x5632bc02cfe4 0x5632bbefcd14 0x7f32cbe3d3e2 0x7f32cbeeba68 0x7f32cbe436d2 0x7f32cbfd1754 0x7f32cbf3061f 0x7f32cbff2a13 0x7f32cbff33da 0x7f32cbf57635 0x7f32cc1cba86 0x7f32cc5d52c8 0x7f32cc5d6071 0x7f32cc5d7870 0x7f32cbfdc995 0x7f32cbe3f687 0x5632bbfbc3a1 0x5632bc0ade1d 0x5632bc02fe99 0x5632bbfbdafa 0x5632bc02bc0d 0x5632bc02a9ee\n",
            "\u001b[2m\u001b[36m(pid=846)\u001b[0m tcmalloc: large alloc 2031894528 bytes == 0x563337b10000 @  0x7f32cf0961e7 0x5632bbfedf98 0x5632bbfb905c 0x5632bc02c320 0x5632bc02a9ee 0x5632bbefce2b 0x5632bc02cfe4 0x5632bbefcd14 0x7f32cbe3d3e2 0x7f32cbeeba68 0x7f32cbe436d2 0x7f32cbfd1754 0x7f32cbf3061f 0x7f32cbff2a13 0x7f32cbff33da 0x7f32cbf57635 0x7f32cc1cba86 0x7f32cc5d52c8 0x7f32cc5d6071 0x7f32cc5d7870 0x7f32cbfdc995 0x7f32cbe3f687 0x5632bbfbc3a1 0x5632bc0ade1d 0x5632bc02fe99 0x5632bbfbdafa 0x5632bc02bc0d 0x5632bc02a9ee 0x5632bc02a6f3 0x5632bc0f44c2 0x5632bc0f483d\n"
          ]
        },
        {
          "output_type": "stream",
          "name": "stdout",
          "text": [
            "CPU times: user 10.9 s, sys: 4.17 s, total: 15.1 s\n",
            "Wall time: 3min 35s\n"
          ]
        }
      ]
    },
    {
      "cell_type": "markdown",
      "metadata": {
        "id": "nhDR03Gwgks9"
      },
      "source": [
        "### According to the above RunTimes results, Dask is the best method among Pandas, Ray, and Modin."
      ]
    }
  ]
}